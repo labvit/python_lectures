{
 "cells": [
  {
   "cell_type": "code",
   "execution_count": null,
   "metadata": {
    "collapsed": true
   },
   "outputs": [],
   "source": [
    "import sys\n",
    "from math import fabs,exp,sin,pi\n",
    "import numpy\n",
    "\n",
    "def ftone(key, Duration, instrument):\n",
    "    iTone = key;  \n",
    "    iSmplRate = 44100; \n",
    "    NumBytesPerSample = 8; # // 8 or 16\n",
    "    iNumChnnls = 1;  # //1 Mono, 2 Stereo\n",
    "    # Duration = 6.5; # //Seconds performing\n",
    "    sAmplit = 1200;\n",
    "    SampleRate=iSmplRate\n",
    "    iNumSmpl = int(SampleRate*Duration);\n",
    "    NumTotalBytes = int(SampleRate*Duration*NumBytesPerSample*iNumChnnls)\n",
    "    iNumByteSmpl = 1\n",
    "    operator = instrument\n",
    "        \n",
    "#     operator = pianAmps\n",
    "    dFreq = 440.0*pow(2.0, (iTone-69)/12.0);\n",
    "\n",
    "    dFreqRel = iSmplRate/dFreq;\n",
    "    iSampleInstrument = 0;\n",
    "    PI2 = 2*pi;\n",
    "    iSamplesInstr = [0]*iNumSmpl;\n",
    "#     dMxSmplInstr=iSampleInstrument\n",
    "#     dMnSmplInstr=iSampleInstrument\n",
    "# #     dMaxInstr = 0\n",
    "#     dMinInstr = 10000\n",
    "    for i in xrange( 0, iNumSmpl):\n",
    "          Angle = i*PI2/dFreqRel;\n",
    "          dInstrument = 0.0\n",
    "          for a in xrange(1, len(operator)+1):\n",
    "                dInstrument += operator[a-1]*sin(float(a)*Angle) #*operator[a-1]);\n",
    "\n",
    "\n",
    "#           dMaxInstr = dInstrument if dInstrument>dMaxInstr else dMaxInstr;\n",
    "#           dMinInstr = dInstrument if dInstrument<dMinInstr else dMinInstr;\n",
    "\n",
    "          iSampleInstrument = int(sAmplit*dInstrument);\n",
    "\n",
    "          FracEnvP = 6.0/10.0;\n",
    "          AngP = i/(iSmplRate*FracEnvP);\n",
    "          EnvPiano = 1.0 /exp(AngP);\n",
    "          iSampleInstrument = int(iSampleInstrument*EnvPiano);\n",
    "\n",
    "          iSamplesInstr[i] = iSampleInstrument;\n",
    "          dNormal = 1.0;\n",
    "\n",
    "    bytes=[]\n",
    "    for i in xrange(0, iNumSmpl):\n",
    "          sSampleInst = int(iSamplesInstr[i]*dNormal);\n",
    "          bytes.append(sSampleInst);\n",
    "    return numpy.array(bytes)"
   ]
  },
  {
   "cell_type": "code",
   "execution_count": null,
   "metadata": {
    "collapsed": true
   },
   "outputs": [],
   "source": [
    "fA4 = ftone(60,2.,[.60,.0,.7,.618625,.625,.5,.4036125])\n",
    "\n",
    "\n",
    "from IPython.display import Audio\n",
    "Audio(fA4,rate = 44100)"
   ]
  }
 ],
 "metadata": {
  "anaconda-cloud": {},
  "kernelspec": {
   "display_name": "Python [default]",
   "language": "python",
   "name": "python2"
  },
  "language_info": {
   "codemirror_mode": {
    "name": "ipython",
    "version": 2
   },
   "file_extension": ".py",
   "mimetype": "text/x-python",
   "name": "python",
   "nbconvert_exporter": "python",
   "pygments_lexer": "ipython2",
   "version": "2.7.12"
  }
 },
 "nbformat": 4,
 "nbformat_minor": 0
}
